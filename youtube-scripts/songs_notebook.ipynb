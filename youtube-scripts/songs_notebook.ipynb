{
 "cells": [
  {
   "cell_type": "code",
   "execution_count": 2,
   "metadata": {},
   "outputs": [],
   "source": [
    "import pandas as pd"
   ]
  },
  {
   "cell_type": "code",
   "execution_count": 14,
   "metadata": {},
   "outputs": [],
   "source": [
    "# Read the tracks.csv to a pandas dataframe.\n",
    "tracks = pd.read_csv('tracks.csv', index_col=0, header=[0, 1])"
   ]
  },
  {
   "cell_type": "code",
   "execution_count": 17,
   "metadata": {},
   "outputs": [
    {
     "data": {
      "text/html": [
       "<div>\n",
       "<style scoped>\n",
       "    .dataframe tbody tr th:only-of-type {\n",
       "        vertical-align: middle;\n",
       "    }\n",
       "\n",
       "    .dataframe tbody tr th {\n",
       "        vertical-align: top;\n",
       "    }\n",
       "\n",
       "    .dataframe thead th {\n",
       "        text-align: right;\n",
       "    }\n",
       "</style>\n",
       "<table border=\"1\" class=\"dataframe\">\n",
       "  <thead>\n",
       "    <tr style=\"text-align: right;\">\n",
       "      <th></th>\n",
       "      <th>track_id</th>\n",
       "      <th>name</th>\n",
       "      <th>title</th>\n",
       "      <th>long_title</th>\n",
       "    </tr>\n",
       "  </thead>\n",
       "  <tbody>\n",
       "    <tr>\n",
       "      <th>0</th>\n",
       "      <td>2</td>\n",
       "      <td>AWOL</td>\n",
       "      <td>Food</td>\n",
       "      <td>AWOL Food</td>\n",
       "    </tr>\n",
       "    <tr>\n",
       "      <th>1</th>\n",
       "      <td>3</td>\n",
       "      <td>AWOL</td>\n",
       "      <td>Electric Ave</td>\n",
       "      <td>AWOL Electric Ave</td>\n",
       "    </tr>\n",
       "    <tr>\n",
       "      <th>2</th>\n",
       "      <td>5</td>\n",
       "      <td>AWOL</td>\n",
       "      <td>This World</td>\n",
       "      <td>AWOL This World</td>\n",
       "    </tr>\n",
       "    <tr>\n",
       "      <th>3</th>\n",
       "      <td>10</td>\n",
       "      <td>Kurt Vile</td>\n",
       "      <td>Freeway</td>\n",
       "      <td>Kurt Vile Freeway</td>\n",
       "    </tr>\n",
       "    <tr>\n",
       "      <th>4</th>\n",
       "      <td>20</td>\n",
       "      <td>Nicky Cook</td>\n",
       "      <td>Spiritual Level</td>\n",
       "      <td>Nicky Cook Spiritual Level</td>\n",
       "    </tr>\n",
       "  </tbody>\n",
       "</table>\n",
       "</div>"
      ],
      "text/plain": [
       "   track_id        name            title                  long_title\n",
       "0         2        AWOL             Food                   AWOL Food\n",
       "1         3        AWOL     Electric Ave           AWOL Electric Ave\n",
       "2         5        AWOL       This World             AWOL This World\n",
       "3        10   Kurt Vile          Freeway           Kurt Vile Freeway\n",
       "4        20  Nicky Cook  Spiritual Level  Nicky Cook Spiritual Level"
      ]
     },
     "metadata": {},
     "output_type": "display_data"
    }
   ],
   "source": [
    "# The csv is multiindexed so we need to double-index the appropriate column to create a dataframe from them.\n",
    "subset = tracks[[('artist', 'name'), ('track', 'title'), ('album', 'title'), ('album', 'date_created')]]\n",
    "\n",
    "# Throw the rows which have any null value cells.\n",
    "subset = subset[~subset.isnull().any(axis=1)]\n",
    "\n",
    "# Select the artist and title columns as a new dataframe.\n",
    "new_songs = subset[[('artist', 'name'), ('track', 'title')]]\n",
    "\n",
    "# Drop the first index level.\n",
    "new_songs.columns = new_songs.columns.droplevel()\n",
    "\n",
    "# Create a new datadframe with flattening the remaining double indexeses.\n",
    "song_full_title = pd.DataFrame(new_songs.to_records())\n",
    "\n",
    "# Create a new column from artist name and track title as long_title.\n",
    "song_full_title[\"long_title\"] = song_full_title[\"name\"] + \" \" + song_full_title[\"title\"]\n",
    "\n",
    "display(song_full_title.head())"
   ]
  },
  {
   "cell_type": "code",
   "execution_count": null,
   "metadata": {},
   "outputs": [],
   "source": []
  }
 ],
 "metadata": {
  "kernelspec": {
   "display_name": "Python 3",
   "language": "python",
   "name": "python3"
  },
  "language_info": {
   "codemirror_mode": {
    "name": "ipython",
    "version": 3
   },
   "file_extension": ".py",
   "mimetype": "text/x-python",
   "name": "python",
   "nbconvert_exporter": "python",
   "pygments_lexer": "ipython3",
   "version": "3.6.5"
  }
 },
 "nbformat": 4,
 "nbformat_minor": 2
}
